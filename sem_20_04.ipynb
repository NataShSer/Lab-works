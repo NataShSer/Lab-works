{
  "cells": [
    {
      "cell_type": "markdown",
      "metadata": {
        "id": "ec6sJGlWidd_"
      },
      "source": [
        "## Основы программирования в Python\n",
        "\n",
        "*Алла Тамбовцева, НИУ ВШЭ*\n",
        "\n",
        "## Семинар 3"
      ]
    },
    {
      "cell_type": "markdown",
      "metadata": {
        "id": "xg5Opcz0ideK"
      },
      "source": [
        "### Задача 1\n",
        "\n",
        "Напишите программу, которая запрашивает у пользователя его фамилию, имя, отчество, введенные в одну строчку через пробел, и выводит на экран сообщения:\n",
        "\n",
        "    Ваша фамилия: фамилия\n",
        "    Ваше имя: имя\n",
        "    Ваше отчество: отчество\n",
        "\n",
        "**Пример:**\n",
        "\n",
        "*Входные данные:*\n",
        "\n",
        "    Введите Ваши ФИО: Тамбовцева Алла Андреевна\n",
        "\n",
        "*Выходные данные:*\n",
        "\n",
        "    Ваша фамилия: Тамбовцева\n",
        "    Ваше имя: Алла\n",
        "    Ваше отчество: Андреевна"
      ]
    },
    {
      "cell_type": "code",
      "source": [
        "FIO = input('Введите фамилию, имя, отчество в одну строчку через пробел')\n",
        "a = FIO.split()\n",
        "print('Ваша фамилия: ' + a[0])\n",
        "print('Ваше имя: ' + a[1])\n",
        "print('Ваше отчество: ' + a[2])"
      ],
      "metadata": {
        "colab": {
          "base_uri": "https://localhost:8080/"
        },
        "id": "ySrf9qtEi1I_",
        "outputId": "3b5eda17-d0a0-452a-9609-e909a8b277a2"
      },
      "execution_count": null,
      "outputs": [
        {
          "output_type": "stream",
          "name": "stdout",
          "text": [
            "Введите фамилию, имя, отчество в одну строчку через пробелdaswdad dawswa adawd\n",
            "Ваша фамилия: daswdad\n",
            "Ваше имя: dawswa\n",
            "Ваше отчество: adawd\n"
          ]
        }
      ]
    },
    {
      "cell_type": "markdown",
      "metadata": {
        "id": "jee-M8ejideM"
      },
      "source": [
        "### Задача 2\n",
        "\n",
        "Напишите программу, которая берет строку \"1; 2; 3; 100\" и возвращает:\n",
        "\n",
        "* список из целых чисел\n",
        "* список из чисел с плавающей точкой"
      ]
    },
    {
      "cell_type": "code",
      "source": [
        "a = \"1;2;3;100\"\n",
        "b = a.split(\";\")\n",
        "i = [int(x) for x in b]\n",
        "print(i)\n",
        "f = [float(x) for x in b]\n",
        "print(f)"
      ],
      "metadata": {
        "colab": {
          "base_uri": "https://localhost:8080/"
        },
        "id": "8aWGabzNl-rW",
        "outputId": "a6c44796-ffe4-4295-861e-58c6c909aee8"
      },
      "execution_count": null,
      "outputs": [
        {
          "output_type": "stream",
          "name": "stdout",
          "text": [
            "[1, 2, 3, 100]\n",
            "[1.0, 2.0, 3.0, 100.0]\n"
          ]
        }
      ]
    },
    {
      "cell_type": "markdown",
      "metadata": {
        "id": "g2OQpPNfideO"
      },
      "source": [
        "### Задача 3\n",
        "\n",
        "Напишите программу, которая запрашивает у пользователя номер мобильного телефона, введенный через дефис, а возвращает номер, записанный без дефисов и пробелов.\n",
        "\n",
        "*Входные данные:*\n",
        "\n",
        "    8-900-123-45-67\n",
        "\n",
        "*Выходные данные:*\n",
        "\n",
        "    89001234567"
      ]
    },
    {
      "cell_type": "code",
      "source": [
        "number = input('Введите номер мобильного телефона через дефис')\n",
        "a = number.split('-')\n",
        "print(a[0] + a[1] + a[2] + a[3] + a[4])"
      ],
      "metadata": {
        "colab": {
          "base_uri": "https://localhost:8080/"
        },
        "id": "PWW8UbeWpqW_",
        "outputId": "1556021a-5f84-4e57-9306-8259662bd0a1"
      },
      "execution_count": null,
      "outputs": [
        {
          "output_type": "stream",
          "name": "stdout",
          "text": [
            "Введите номер мобильного телефона через дефис8-953-132-19-48\n",
            "89531321948\n"
          ]
        }
      ]
    },
    {
      "cell_type": "markdown",
      "metadata": {
        "id": "l-umlSsAideP"
      },
      "source": [
        "### Задача 4\n",
        "\n",
        "Напишите программу, которая принимает на вход список L, в котором хранятся значения доходов домохозяйств за месяц, а возвращает новый список L2 ‒ список логарифмированных значений доходов."
      ]
    },
    {
      "cell_type": "code",
      "source": [
        "import math\n",
        "L = ['10000', '760000', '8733456', '54678766']\n",
        "a = [int(x) for x in L]\n",
        "for i in a:\n",
        "  L2 = math.log(i)\n",
        "  print(L2)\n"
      ],
      "metadata": {
        "colab": {
          "base_uri": "https://localhost:8080/"
        },
        "id": "MHEKq-0OsZlU",
        "outputId": "899a0152-72a1-470c-d828-0b7b87c9fd45"
      },
      "execution_count": null,
      "outputs": [
        {
          "output_type": "stream",
          "name": "stdout",
          "text": [
            "9.210340371976184\n",
            "13.541073712262515\n",
            "15.982671725766101\n",
            "17.816986001898947\n"
          ]
        }
      ]
    },
    {
      "cell_type": "markdown",
      "metadata": {
        "id": "VAvjGyk-ideP"
      },
      "source": [
        "### Задача 5\n",
        "\n",
        "Напишите программу, которая принимает на вход список слов такого вида:\n",
        "\n",
        "    words = [\"Speak \",\"to\", \"me \", \"of\", \"Florence\" ,\"And \", \"of\", \"the\", \"Renaissance\"]\n",
        "\n",
        "а возвращает список\n",
        "\n",
        "    words_clean = [\"speak\", \"to\", \"me\", \"of\", \"florence\", \"and\", \"of\", \"the\", \"renaissance\"]\n",
        "\n",
        "Другими словами, программа убирает пробелы в словах и приводит все слова к нижнему регистру.\n",
        "\n",
        "**Подсказка:** запросите `help()`  по  методам `strip()` и `lower()`."
      ]
    },
    {
      "cell_type": "code",
      "source": [
        "words = str([\"Speak \",\"to\", \"me \", \"of\", \"Florence\" ,\"And \", \"of\", \"the\", \"Renaissance\"])\n",
        "a = words.strip()\n",
        "words_clean = a.lower()\n",
        "print(words_clean)"
      ],
      "metadata": {
        "colab": {
          "base_uri": "https://localhost:8080/"
        },
        "id": "dtjL-tdL0hYo",
        "outputId": "2a76ff72-e5e0-475e-8a98-6a27de945f47"
      },
      "execution_count": 1,
      "outputs": [
        {
          "output_type": "stream",
          "name": "stdout",
          "text": [
            "['speak ', 'to', 'me ', 'of', 'florence', 'and ', 'of', 'the', 'renaissance']\n"
          ]
        }
      ]
    }
  ],
  "metadata": {
    "kernelspec": {
      "display_name": "Python 3",
      "language": "python",
      "name": "python3"
    },
    "language_info": {
      "codemirror_mode": {
        "name": "ipython",
        "version": 3
      },
      "file_extension": ".py",
      "mimetype": "text/x-python",
      "name": "python",
      "nbconvert_exporter": "python",
      "pygments_lexer": "ipython3",
      "version": "3.6.5"
    },
    "colab": {
      "name": "sem_20_04.ipynb",
      "provenance": []
    }
  },
  "nbformat": 4,
  "nbformat_minor": 0
}