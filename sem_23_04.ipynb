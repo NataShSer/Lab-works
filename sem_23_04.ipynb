{
  "cells": [
    {
      "cell_type": "markdown",
      "metadata": {
        "id": "x0xkk8i81-B7"
      },
      "source": [
        "## Основы программирования в Python\n",
        "\n",
        "*Алла Тамбовцева, НИУ ВШЭ*\n",
        "\n",
        "## Семинар 4"
      ]
    },
    {
      "cell_type": "markdown",
      "metadata": {
        "id": "CBAyrbZr1-CI"
      },
      "source": [
        "### Задача 1\n",
        "\n",
        "Напишите программу, которая просит пользователя ввести положительное число, и если пользователь вводит положительное число, выводит на экран сообщение \"Молодец!\", если нет ‒ \"Это не положительное число.\".\n",
        "\n",
        "Считайте, что пользователь в любом случае вводит числа, а не какой-то текст."
      ]
    },
    {
      "cell_type": "code",
      "source": [
        "a = int(input('Введите положительное число'))\n",
        "if a > 0:\n",
        "  print('Молодец!')\n",
        "elif a < 0:\n",
        "  print('Это не положительное число')"
      ],
      "metadata": {
        "colab": {
          "base_uri": "https://localhost:8080/"
        },
        "id": "__YAaIVk36ts",
        "outputId": "75d97003-5e14-48d7-c121-474dfeeefcb3"
      },
      "execution_count": 9,
      "outputs": [
        {
          "output_type": "stream",
          "name": "stdout",
          "text": [
            "Введите положительное число-9\n",
            "Это не положительное число\n"
          ]
        }
      ]
    },
    {
      "cell_type": "markdown",
      "metadata": {
        "id": "sLKV8d9M1-CK"
      },
      "source": [
        "### Задача 2\n",
        "\n",
        "Напишите программу, которая принимает на вход список оценок студентов от 1 до 10, выводит на экран оценку, а после нее, с новой строки, комментарий \"Плохо\", \"Удовлетворительно\", \"Хорошо\", \"Отлично\" в зависимости от оценки."
      ]
    },
    {
      "cell_type": "code",
      "source": [
        "a = [\"9\", \"4\", \"6\", \"7\", \"2\"]\n",
        "b = [int(x) for x in a]\n",
        "for i in b:\n",
        "  if i == 1 or i == 2:\n",
        "    print(\"2\")\n",
        "    print(\"Плохо\")\n",
        "  if i == 3 or i == 4:\n",
        "    print(\"3\")\n",
        "    print(\"Удовлетворительно\")\n",
        "  if i == 5 or i == 6 or i == 7:\n",
        "    print(\"4\")\n",
        "    print(\"Хорошо\")\n",
        "  if i == 8 or i == 9 or i == 10:\n",
        "    print(\"5\")\n",
        "    print(\"Отлично\")"
      ],
      "metadata": {
        "colab": {
          "base_uri": "https://localhost:8080/"
        },
        "id": "ARBn7dPC49sI",
        "outputId": "624bb6bd-fce1-4378-842a-b88a8b0fedb9"
      },
      "execution_count": 16,
      "outputs": [
        {
          "output_type": "stream",
          "name": "stdout",
          "text": [
            "5\n",
            "Отлично\n",
            "3\n",
            "Удовлетворительно\n",
            "4\n",
            "Хорошо\n",
            "4\n",
            "Хорошо\n",
            "2\n",
            "Плохо\n"
          ]
        }
      ]
    },
    {
      "cell_type": "markdown",
      "metadata": {
        "id": "82ypdRKj1-CL"
      },
      "source": [
        "### Задача 3\n",
        "\n",
        "Напишите программу, которая запрашивает у пользователя пароль, и далее:\n",
        "\n",
        "- если пароль верный, выводит на экран сообщение \"Login success\".\n",
        "- если пароль неверный, выводит на экран сообщение \"Incorrect password, try again!\" до тех пор, пока пользователь не введет верный пароль."
      ]
    },
    {
      "cell_type": "code",
      "source": [
        "a = 1234\n",
        "b = int(input('Введите пароль'))\n",
        "while a != b:\n",
        "  print('Incorrect password, try again!')\n",
        "  b = int(input('Введите пароль'))\n",
        "if a == b:\n",
        "  print('Login success')"
      ],
      "metadata": {
        "colab": {
          "base_uri": "https://localhost:8080/"
        },
        "id": "F-KpFymy2BPP",
        "outputId": "45793e99-fa00-4bd3-dae0-88b4040a8514"
      },
      "execution_count": 1,
      "outputs": [
        {
          "output_type": "stream",
          "name": "stdout",
          "text": [
            "Введите пароль1345\n",
            "Incorrect password, try again!\n",
            "Введите пароль146\n",
            "Incorrect password, try again!\n",
            "Введите пароль1234\n",
            "Login success\n"
          ]
        }
      ]
    },
    {
      "cell_type": "markdown",
      "metadata": {
        "id": "XLuau3Gl1-CM"
      },
      "source": [
        "### Задача 4\n",
        "\n",
        "У питона есть набор любимых чисел.\n",
        "\n",
        "    favorites = [3, 7, 11, 23, 18, 48, 81]\n",
        "\n",
        "Напишите программу, которая просит пользователя ввести целое число, и если оно нравится питону, на экран будет выводиться сообщение: \"Мое любимое число!\", если нет ‒ \"Эх, ну почему?\"."
      ]
    },
    {
      "cell_type": "code",
      "source": [
        "favorites = [3, 7, 11, 23, 18, 48, 81]\n",
        "a = int(input('Введите целое число'))\n",
        "if a in favorites:\n",
        "  print('Мое любимое число')\n",
        "elif a not in favorites:\n",
        "  print('Эх, ну почему?')"
      ],
      "metadata": {
        "colab": {
          "base_uri": "https://localhost:8080/"
        },
        "id": "bUHg-Zxv2xyj",
        "outputId": "ba07c3a1-cd86-4ee4-82f7-4a1daa92b0e0"
      },
      "execution_count": 3,
      "outputs": [
        {
          "output_type": "stream",
          "name": "stdout",
          "text": [
            "Введите целое число7\n",
            "Мое любимое число\n"
          ]
        }
      ]
    },
    {
      "cell_type": "markdown",
      "metadata": {
        "id": "uwpHYslr1-CN"
      },
      "source": [
        "### Задача 5\n",
        "\n",
        "Напишите программу, которая просит пользователя ввести число и, если оно чётное, выводит на экран сообщение: \"Это число чётное\", если нечётное ‒ \"Это число нечётное\"."
      ]
    },
    {
      "cell_type": "code",
      "source": [
        "a = int(input('Введите число'))\n",
        "if a%2 == 0:\n",
        "  print('Это число четное')\n",
        "elif a%2 != 0:\n",
        "  print('Это число нечетное')"
      ],
      "metadata": {
        "colab": {
          "base_uri": "https://localhost:8080/"
        },
        "id": "PN7adiRw3aIH",
        "outputId": "8ff0823b-6340-4004-8857-d8ed7ac7f6a7"
      },
      "execution_count": 5,
      "outputs": [
        {
          "output_type": "stream",
          "name": "stdout",
          "text": [
            "Введите число6\n",
            "Это число четное\n"
          ]
        }
      ]
    },
    {
      "cell_type": "markdown",
      "metadata": {
        "id": "YWMjnZJN1-CO"
      },
      "source": [
        "### Задача 6\n",
        "\n",
        "Напишите программу, которая просит пользователя ввести существительное, и если слово введено с большой буквы, то на экран выводится сообщение \"Это имя собственное.\", если с маленькой ‒ сообщение \"Это имя нарицательное\"."
      ]
    },
    {
      "cell_type": "code",
      "source": [
        "a = input('Введите существительное')\n",
        "if a.istitle():\n",
        "  print('Это имя собственное')\n",
        "if a.islower():\n",
        "  print('Это имя нарицательное')"
      ],
      "metadata": {
        "colab": {
          "base_uri": "https://localhost:8080/"
        },
        "id": "sc3evMnI5BWY",
        "outputId": "cbd30b3b-9521-4f26-fc69-5c420fae7cd7"
      },
      "execution_count": 12,
      "outputs": [
        {
          "output_type": "stream",
          "name": "stdout",
          "text": [
            "Введите существительноекров\n",
            "Это имя нарицательное\n"
          ]
        }
      ]
    }
  ],
  "metadata": {
    "kernelspec": {
      "display_name": "Python 3",
      "language": "python",
      "name": "python3"
    },
    "language_info": {
      "codemirror_mode": {
        "name": "ipython",
        "version": 3
      },
      "file_extension": ".py",
      "mimetype": "text/x-python",
      "name": "python",
      "nbconvert_exporter": "python",
      "pygments_lexer": "ipython3",
      "version": "3.6.5"
    },
    "colab": {
      "name": "sem-23-04.ipynb",
      "provenance": []
    }
  },
  "nbformat": 4,
  "nbformat_minor": 0
}