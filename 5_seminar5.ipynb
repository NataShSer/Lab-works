{
  "nbformat": 4,
  "nbformat_minor": 0,
  "metadata": {
    "colab": {
      "name": "Untitled1.ipynb",
      "provenance": []
    },
    "kernelspec": {
      "name": "python3",
      "display_name": "Python 3"
    },
    "language_info": {
      "name": "python"
    }
  },
  "cells": [
    {
      "cell_type": "markdown",
      "source": [
        "Задача 1"
      ],
      "metadata": {
        "id": "snXKyK9KKAhP"
      }
    },
    {
      "cell_type": "code",
      "execution_count": null,
      "metadata": {
        "id": "aXxkf4EiJ7K5"
      },
      "outputs": [],
      "source": [
        "square = int(input('Введите число'))\n",
        "a = square**2\n",
        "print(a)"
      ]
    },
    {
      "cell_type": "code",
      "source": [
        "square = int(input('Введите число'))\n",
        "a = square**2\n",
        "print('Квадрат числа равен: n')"
      ],
      "metadata": {
        "id": "DZl0Js8HXw6P"
      },
      "execution_count": null,
      "outputs": []
    },
    {
      "cell_type": "code",
      "source": [
        "square = int(input('Введите число'))\n",
        "a = square**2\n",
        "print('Квадрат числа равен: ' + str(a))"
      ],
      "metadata": {
        "id": "wMjtovGlYNVl"
      },
      "execution_count": null,
      "outputs": []
    },
    {
      "cell_type": "markdown",
      "source": [
        "Задача 2"
      ],
      "metadata": {
        "id": "T0gixgdLKJAG"
      }
    },
    {
      "cell_type": "code",
      "source": [
        "nums = int(input('Введите целое число'))\n",
        "b = nums-1, nums+1\n",
        "print(list(b))"
      ],
      "metadata": {
        "id": "m_kISqHLKLkA"
      },
      "execution_count": null,
      "outputs": []
    },
    {
      "cell_type": "markdown",
      "source": [
        "Задача 3"
      ],
      "metadata": {
        "id": "8sCp2UejKNJk"
      }
    },
    {
      "cell_type": "code",
      "source": [
        "a = str(input('Введите строку'))\n",
        "b = str(a.split())\n",
        "c = b.lower()\n",
        "print(c)"
      ],
      "metadata": {
        "id": "J1E951NIKPeq"
      },
      "execution_count": null,
      "outputs": []
    },
    {
      "cell_type": "markdown",
      "source": [
        "Задача 4"
      ],
      "metadata": {
        "id": "0TDdm_O9KQFv"
      }
    },
    {
      "cell_type": "code",
      "source": [
        "import math\n",
        "my_log = [1, 3, 2.5, -1, 9, 0, 2.71]\n",
        "for i in my_log:\n",
        "  if i > 0:\n",
        "    print(math.log(i))\n",
        "  if i <= 0:\n",
        "    print(None)"
      ],
      "metadata": {
        "id": "Cf4CyA4IKRy-"
      },
      "execution_count": null,
      "outputs": []
    },
    {
      "cell_type": "markdown",
      "source": [
        "Задача 5"
      ],
      "metadata": {
        "id": "64ejB_WxKSRj"
      }
    },
    {
      "cell_type": "code",
      "source": [
        "a = [\"Ann\", \"Tim\", \"Sam\"]\n",
        "b = [12, 23, 17, 45]\n",
        "if len(a) == len(b):\n",
        "  c = {a[0] + str(b[0])}\n",
        "  c1 = {a[1] + str(b[1])}\n",
        "  c2 = {a[2] + str(b[2])}\n",
        "  print(c)\n",
        "  print(c1)\n",
        "  print(c2)\n",
        "if len(a) != len(b):\n",
        "  print('Списки имеют разную длину')\n",
        "  print({})"
      ],
      "metadata": {
        "id": "fphMkZmIKU0F",
        "colab": {
          "base_uri": "https://localhost:8080/"
        },
        "outputId": "fffb69be-0de8-4960-d34f-5f5af559a838"
      },
      "execution_count": 83,
      "outputs": [
        {
          "output_type": "stream",
          "name": "stdout",
          "text": [
            "Списки имеют разную длину\n",
            "{}\n"
          ]
        }
      ]
    },
    {
      "cell_type": "markdown",
      "source": [
        "Задача 6"
      ],
      "metadata": {
        "id": "mIwQOti1KVR1"
      }
    },
    {
      "cell_type": "code",
      "source": [
        "a = (7, 6, 1, 3, 8, 0, -2)\n",
        "print(sorted(a))"
      ],
      "metadata": {
        "id": "Kvb8BEV1KWts",
        "colab": {
          "base_uri": "https://localhost:8080/"
        },
        "outputId": "5dd6dffb-56dc-491c-f3ef-cea494dbc7fc"
      },
      "execution_count": 84,
      "outputs": [
        {
          "output_type": "stream",
          "name": "stdout",
          "text": [
            "[-2, 0, 1, 3, 6, 7, 8]\n"
          ]
        }
      ]
    }
  ]
}