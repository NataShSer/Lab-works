{
  "cells": [
    {
      "cell_type": "markdown",
      "metadata": {
        "id": "YHly4DRat8Zo"
      },
      "source": [
        "### Задание 0 (разминка)\n",
        "\n",
        "Даны два списка `a` и `b` (см. ниже).\n",
        "    \n",
        "1. Выведите на экран первый элемент списка `a`, третий элемент списка `a`, последний элемент списка `a`.\n",
        "2. Добавьте в список `b` элемент 7 (просто допишите в конец).\n",
        "3. Замените пятый элемент списка `a` на число 8.\n",
        "4. Создайте список `merged`, который включает в себя все элементы списка `a` и списка `b`.\n",
        "5. Создайте новый список `с`, который получается заменой последнего элемента списка `a` на число 100. Сам список `a` измениться не должен!"
      ]
    },
    {
      "cell_type": "code",
      "execution_count": 7,
      "metadata": {
        "id": "pmsmm4_mt8Z3"
      },
      "outputs": [],
      "source": [
        "a = [1, 0, 9, 12, 18, 34, 89, 91, 33, 127]\n",
        "b = [2, 8, 9, 11, 76, 25, 44]"
      ]
    },
    {
      "cell_type": "code",
      "execution_count": 2,
      "metadata": {
        "colab": {
          "base_uri": "https://localhost:8080/"
        },
        "id": "7u_IcWIet8Z5",
        "outputId": "fd6c0fd7-3167-4ff5-8b71-4711de9b2b58"
      },
      "outputs": [
        {
          "output_type": "stream",
          "name": "stdout",
          "text": [
            "1\n",
            "9\n",
            "127\n"
          ]
        }
      ],
      "source": [
        "print(a[0])\n",
        "print(a[2])\n",
        "print(a[-1])"
      ]
    },
    {
      "cell_type": "code",
      "execution_count": 3,
      "metadata": {
        "id": "1r3J806XxVLS"
      },
      "outputs": [],
      "source": [
        "b.append(7)"
      ]
    },
    {
      "cell_type": "code",
      "execution_count": 4,
      "metadata": {
        "id": "7ooUBU_jxefJ"
      },
      "outputs": [],
      "source": [
        "a[4] = 8"
      ]
    },
    {
      "cell_type": "code",
      "source": [
        "merged = a + b"
      ],
      "metadata": {
        "colab": {
          "base_uri": "https://localhost:8080/"
        },
        "id": "lu--SU4gquG1",
        "outputId": "d0a3c4d1-5fba-47f7-da84-2b1df57d8c89"
      },
      "execution_count": 6,
      "outputs": [
        {
          "output_type": "stream",
          "name": "stdout",
          "text": [
            "[1, 0, 9, 12, 8, 34, 89, 91, 33, 127, 2, 8, 9, 11, 76, 25, 44, 7]\n"
          ]
        }
      ]
    },
    {
      "cell_type": "code",
      "source": [
        "a[-1] = 100\n",
        "c = a"
      ],
      "metadata": {
        "colab": {
          "base_uri": "https://localhost:8080/"
        },
        "id": "xuxVMVCFrAOY",
        "outputId": "a0e77cbb-9aa3-4ff2-f89f-c261aeadbe88"
      },
      "execution_count": 8,
      "outputs": [
        {
          "output_type": "stream",
          "name": "stdout",
          "text": [
            "[1, 0, 9, 12, 18, 34, 89, 91, 33, 100]\n"
          ]
        }
      ]
    },
    {
      "cell_type": "markdown",
      "metadata": {
        "id": "FlE4tJcet8Z5"
      },
      "source": [
        "### Задание 1 (девочковое)\n",
        "\n",
        "Есть список имен:"
      ]
    },
    {
      "cell_type": "code",
      "execution_count": null,
      "metadata": {
        "id": "bhcsF9Dst8Z6"
      },
      "outputs": [],
      "source": [
        "girls = [\"Иветта\", \"Виолетта\", \"Кассандра\", \"Вирджиния\", \n",
        "         \"Амелия\", \"Розамунда\", \"Янина\", \"Беатриса\"]"
      ]
    },
    {
      "cell_type": "markdown",
      "metadata": {
        "id": "zQCqMR_Pt8Z7"
      },
      "source": [
        "Используя список `girls`, выведите на экран следующие списки:\n",
        "\n",
        "    [\"Виолетта\", \"Кассандра\", \"Вирджиния\", \"Амелия\"]\n",
        "    [\"Вирджиния\", \"Амелия\", \"Розамунда\", \"Янина\", \"Беатриса\"]\n",
        "    [\"Иветта\", \"Виолетта\", \"Вирджиния\", \"Амелия\"]\n",
        "    [\"Кассандра\", \"Амелия\", \"Розамунда\"]"
      ]
    },
    {
      "cell_type": "code",
      "execution_count": null,
      "metadata": {
        "colab": {
          "base_uri": "https://localhost:8080/"
        },
        "id": "CJNUK_wNt8Z7",
        "outputId": "9e798bc9-8d4e-4be2-fc75-9ae8e1a7bb0f"
      },
      "outputs": [
        {
          "name": "stdout",
          "output_type": "stream",
          "text": [
            "['Виолетта', 'Кассандра', 'Вирджиния', 'Амелия']\n",
            "['Вирджиния', 'Амелия', 'Розамунда', 'Янина', 'Беатриса']\n",
            "['Иветта', 'Виолетта', 'Вирджиния', 'Амелия']\n",
            "['Кассандра', 'Амелия', 'Розамунда']\n"
          ]
        }
      ],
      "source": [
        "print(girls[1:5:])\n",
        "print(girls[3:])\n",
        "print(girls[0:2:]+girls[3:5:])\n",
        "print(girls[2:3:] + girls[4:6])"
      ]
    },
    {
      "cell_type": "markdown",
      "metadata": {
        "id": "1vYtesG4t8Z9"
      },
      "source": [
        "### Задание 2 (поэлементное) \n",
        "\n",
        "Дан список `L`. Выведите на экран (последовательно, с новой строчки): \n",
        "\n",
        "* все элементы списка `L`\n",
        "* логарифмированные значения элементов списка `L`"
      ]
    },
    {
      "cell_type": "code",
      "execution_count": null,
      "metadata": {
        "id": "8tx7JS7rt8Z-"
      },
      "outputs": [],
      "source": [
        "L = [12, 3, 8, 125, 10, 98, 54, 199]"
      ]
    },
    {
      "cell_type": "code",
      "execution_count": null,
      "metadata": {
        "colab": {
          "base_uri": "https://localhost:8080/"
        },
        "id": "qEArw9zNt8Z_",
        "outputId": "5f2ee6c0-f25d-4c87-dfa4-f13973783e57"
      },
      "outputs": [
        {
          "name": "stdout",
          "output_type": "stream",
          "text": [
            "12\n",
            "3\n",
            "8\n",
            "125\n",
            "10\n",
            "98\n",
            "54\n",
            "199\n"
          ]
        }
      ],
      "source": [
        "for i in L:\n",
        "    print(i)"
      ]
    },
    {
      "cell_type": "code",
      "execution_count": null,
      "metadata": {
        "colab": {
          "base_uri": "https://localhost:8080/"
        },
        "id": "8ebgDJi-Gbqj",
        "outputId": "3f2c6204-bb0f-4b6f-ec89-1cff70235409"
      },
      "outputs": [
        {
          "name": "stdout",
          "output_type": "stream",
          "text": [
            "2.4849066497880004\n",
            "1.0986122886681098\n",
            "2.0794415416798357\n",
            "4.8283137373023015\n",
            "2.302585092994046\n",
            "4.584967478670572\n",
            "3.9889840465642745\n",
            "5.293304824724492\n"
          ]
        }
      ],
      "source": [
        "import math\n",
        "for i in L:\n",
        "  print(math.log(i))"
      ]
    },
    {
      "cell_type": "markdown",
      "metadata": {
        "id": "eMmrSE_rt8aA"
      },
      "source": [
        "Замените пятый элемент списка `L` на 0. Проделайте те же операции, что и раньше. Объясните, почему получаются такие результаты."
      ]
    },
    {
      "cell_type": "code",
      "execution_count": null,
      "metadata": {
        "id": "wix-lgnxFhqO"
      },
      "outputs": [],
      "source": [
        "L[4] = 0"
      ]
    },
    {
      "cell_type": "code",
      "execution_count": null,
      "metadata": {
        "colab": {
          "base_uri": "https://localhost:8080/"
        },
        "id": "plfL-n6XGzAU",
        "outputId": "c1739585-7787-420e-c5d2-9b62b090e4e9"
      },
      "outputs": [
        {
          "name": "stdout",
          "output_type": "stream",
          "text": [
            "12\n",
            "3\n",
            "8\n",
            "125\n",
            "0\n",
            "98\n",
            "54\n",
            "199\n"
          ]
        }
      ],
      "source": [
        "for i in L:\n",
        "    print(i)"
      ]
    },
    {
      "cell_type": "code",
      "execution_count": null,
      "metadata": {
        "colab": {
          "base_uri": "https://localhost:8080/"
        },
        "id": "d0__waTjG_le",
        "outputId": "18446a2f-afc5-46bc-a1f3-654c3fa73ec0"
      },
      "outputs": [
        {
          "name": "stdout",
          "output_type": "stream",
          "text": [
            "2.4849066497880004\n",
            "1.0986122886681098\n",
            "2.0794415416798357\n",
            "4.8283137373023015\n",
            "2.302585092994046\n",
            "4.584967478670572\n",
            "3.9889840465642745\n",
            "5.293304824724492\n"
          ]
        }
      ],
      "source": [
        "for i in L:\n",
        "  print(math.log(i))"
      ]
    },
    {
      "cell_type": "markdown",
      "metadata": {
        "id": "gWtNGaRtt8aA"
      },
      "source": [
        "### Задание 3 (демографическое)\n",
        "\n",
        "В списке `age` сохранены значения возраста респондентов: \n",
        "\n",
        "    age = [24, 35, 42, 27, 45, 48, 33]\n",
        "    \n",
        "Создайте список `age2`, в котором будут храниться значения возраста, возведенные в квадрат.\n",
        "\n",
        "**Подсказка:** используйте цикл *for*."
      ]
    },
    {
      "cell_type": "code",
      "execution_count": null,
      "metadata": {
        "id": "Ir1VcGf3t8aB"
      },
      "outputs": [],
      "source": [
        "age = [24, 35, 42, 27, 45, 48, 33]"
      ]
    },
    {
      "cell_type": "code",
      "execution_count": null,
      "metadata": {
        "colab": {
          "base_uri": "https://localhost:8080/"
        },
        "id": "uJ3wJcoZt8aB",
        "outputId": "789eefe2-db03-4a90-9877-50dfb530c1e4"
      },
      "outputs": [
        {
          "name": "stdout",
          "output_type": "stream",
          "text": [
            "576\n",
            "1225\n",
            "1764\n",
            "729\n",
            "2025\n",
            "2304\n",
            "1089\n"
          ]
        }
      ],
      "source": [
        "for i in age:\n",
        "    age2 = i*i\n",
        "    print(age2)"
      ]
    },
    {
      "cell_type": "markdown",
      "metadata": {
        "id": "N2A9y9qit8aC"
      },
      "source": [
        "### Задание 4 (игровое)\n",
        "\n",
        "Питон просит пользователя загадать (ввести с клавиатуры) целое число $k$ от 1 до 10. Питон берет это число $k$ и выводит на экран $k$-тый элемент списка `numbers`, причем $k$-ый элемент в привычном понимании, в нумерации, которая начинается с единицы.  \n",
        "\n",
        "Список `numbers`:"
      ]
    },
    {
      "cell_type": "code",
      "execution_count": null,
      "metadata": {
        "id": "YTg5PsbDt8aC"
      },
      "outputs": [],
      "source": [
        "numbers = [1, 5, 6, 8, 10, 21, 25, 1, 0, -9, 9]"
      ]
    },
    {
      "cell_type": "markdown",
      "metadata": {
        "id": "TvpAUy1st8aD"
      },
      "source": [
        "**Пояснение:**\n",
        "    \n",
        "*Входные данные:*\n",
        "\n",
        "    Введите целое число от 1 до 10: 3\n",
        "    \n",
        "*Выходные данные:*\n",
        "\n",
        "    6"
      ]
    },
    {
      "cell_type": "code",
      "execution_count": null,
      "metadata": {
        "colab": {
          "base_uri": "https://localhost:8080/"
        },
        "id": "fC-MllY553Ab",
        "outputId": "8ce53478-d8c3-4b9c-b43f-15738008d4c6"
      },
      "outputs": [
        {
          "name": "stdout",
          "output_type": "stream",
          "text": [
            "Введите целое число от 1 до 1011\n",
            "Вы ввели неправильное число\n"
          ]
        }
      ],
      "source": [
        "a = int(input('Введите целое число от 1 до 10'))\n",
        "if a == 1:\n",
        "  print(numbers[0])\n",
        "if a == 2:\n",
        "  print(numbers[1])\n",
        "if a == 3:\n",
        "  print(numbers[2])\n",
        "if a == 4:\n",
        "  print(numbers[3])\n",
        "if a == 5:\n",
        "  print(numbers[4])\n",
        "if a == 6:\n",
        "  print(numbers[5])\n",
        "if a == 7:\n",
        "  print(numbers[6])\n",
        "if a == 8:\n",
        "  print(numbers[7])\n",
        "if a == 9:\n",
        "  print(numbers[8])\n",
        "if a == 10:\n",
        "  print(numbers[9])\n",
        "elif a < 1 or a > 10:\n",
        "  print('Вы ввели неправильное число') "
      ]
    },
    {
      "cell_type": "markdown",
      "metadata": {
        "id": "uM2A6Ytxt8aD"
      },
      "source": [
        "### Задание 5 (числовое)\n",
        "\n",
        "У питона есть набор любимых чисел.\n",
        "\n",
        "    favorites = [3, 7, 11, 23, 18, 48, 81]\n",
        "\n",
        "Напишите программу, которая просит пользователя ввести целое число, и если оно нравится питону, на экран будет выводиться сообщение: \"Мое любимое число!\", если нет ‒ \"Эх, ну почему?\".\n",
        "\n",
        "*Подсказка:* чтобы проверить, принадлежит ли некоторый объект элементам списка, можно воспользоваться оператором *in*."
      ]
    },
    {
      "cell_type": "code",
      "execution_count": null,
      "metadata": {
        "colab": {
          "base_uri": "https://localhost:8080/"
        },
        "id": "dWT7pyvH_C4D",
        "outputId": "992f41be-da09-491c-aa6e-e81b54285cf2"
      },
      "outputs": [
        {
          "name": "stdout",
          "output_type": "stream",
          "text": [
            "Введите целое число10\n",
            "Эх, ну почему?\n"
          ]
        }
      ],
      "source": [
        "favorites = [3, 7, 11, 23, 18, 48, 81]\n",
        "a = int(input('Введите целое число'))\n",
        "if a in favorites:\n",
        "    print('Мое любимое число!')\n",
        "elif a not in favorites:\n",
        "    print('Эх, ну почему?')"
      ]
    },
    {
      "cell_type": "markdown",
      "metadata": {
        "id": "I2AFZ-7et8aE"
      },
      "source": [
        "### Задание 6 (четное)\n",
        "\n",
        "Напишите программу, которая просит пользователя ввести число и, если оно чётное, выводит на экран сообщение: \"Это число чётное\", если нечётное ‒ \"Это число нечётное\".\n",
        "\n",
        "*Подсказка:* используйте оператор `%` для определения остатка от деления."
      ]
    },
    {
      "cell_type": "code",
      "execution_count": null,
      "metadata": {
        "colab": {
          "base_uri": "https://localhost:8080/"
        },
        "id": "exkUQBWZFFTu",
        "outputId": "0e233dc0-18fb-42f2-9aaf-27c7b1a9fe54"
      },
      "outputs": [
        {
          "name": "stdout",
          "output_type": "stream",
          "text": [
            "Введите число13\n",
            "Это число нечетное\n"
          ]
        }
      ],
      "source": [
        "a = int(input('Введите число'))\n",
        "if a%2 == 0:\n",
        "  print('Это число четное')\n",
        "elif a%2 != 0:\n",
        "  print('Это число нечетное')"
      ]
    },
    {
      "cell_type": "markdown",
      "metadata": {
        "id": "M7MpH7oxt8aE"
      },
      "source": [
        "### Задание 7 (музыкальное)\n",
        "\n",
        "Напишите программу, которая принимает на вход список слов такого вида:\n",
        "\n",
        "    words = [\"Speak \",\"to\", \"me \", \"of\", \"Florence\" ,\"And \", \"of\", \"the\", \"Renaissance\"]\n",
        "\n",
        "а возвращает список\n",
        "\n",
        "    words_clean = [\"speak\", \"to\", \"me\", \"of\", \"florence\", \"and\", \"of\", \"the\", \"renaissance\"]\n",
        "\n",
        "Другими словами, программа убирает пробелы в словах и приводит все слова к нижнему регистру. Эту задачу можно решить через циклы, но в Python есть такая полезная вещь как списковые включения. Они работают быстрее, чем циклы, и создавать новые списки на основе старых очень удобно. Прочитать про них можно [здесь](http://pythontutor.ru/lessons/lists/#section_3) и [здесь](https://nbviewer.jupyter.org/github/allatambov/Py-programming-3/blob/master/20-04/lecture-lists-contd.ipynb).\n",
        "\n",
        "**Подсказка:** запросите `help()`  по  методам `.strip()` и `.lower()`."
      ]
    },
    {
      "cell_type": "code",
      "execution_count": null,
      "metadata": {
        "colab": {
          "base_uri": "https://localhost:8080/"
        },
        "id": "zq7YksC-av15",
        "outputId": "77f8ac7e-cdc2-41a5-b5a7-f143dbabf55f"
      },
      "outputs": [
        {
          "output_type": "stream",
          "name": "stdout",
          "text": [
            "['speak ', 'to', 'me ', 'of', 'florence', 'and ', 'of', 'the', 'renaissance']\n"
          ]
        }
      ],
      "source": [
        "words = str([\"Speak \",\"to\", \"me \", \"of\", \"Florence\" ,\"And \", \"of\", \"the\", \"Renaissance\"])\n",
        "a = words.strip()\n",
        "words_clean = a.lower()\n",
        "print(words_clean)"
      ]
    },
    {
      "cell_type": "markdown",
      "metadata": {
        "id": "0niHV01Xt8aF"
      },
      "source": [
        "### Задание 8 (секретное)\n",
        "\n",
        "Напишите программу, которая запрашивает у пользователя пароль, и далее:\n",
        "\n",
        "- если пароль верный, выводит на экран сообщение \"Login success\".\n",
        "- если пароль неверный, выводит на экран сообщение \"Incorrect password, try again!\" до тех пор, пока пользователь не введет верный пароль.\n",
        "\n",
        "Считайте, что верный пароль программе известен, то есть уже сохранен в некоторой переменной. "
      ]
    },
    {
      "cell_type": "code",
      "execution_count": null,
      "metadata": {
        "colab": {
          "base_uri": "https://localhost:8080/"
        },
        "id": "rXMKxBcAdBcZ",
        "outputId": "70c501fb-74e1-46ae-f7b2-2b5abb76735c"
      },
      "outputs": [
        {
          "name": "stdout",
          "output_type": "stream",
          "text": [
            "Введите пароль1234\n",
            "Login success\n"
          ]
        }
      ],
      "source": [
        "a = 1234\n",
        "b = int(input('Введите пароль'))\n",
        "while a!= b:\n",
        "  print('Incorrect password, try again!')\n",
        "  b = int(input('Введите пароль'))\n",
        "if a == b:\n",
        "  print('Login success')"
      ]
    },
    {
      "cell_type": "markdown",
      "metadata": {
        "id": "D4csqVGXt8aG"
      },
      "source": [
        "### Задание 9 (функциональное)\n",
        "\n",
        "Напишите функцию `nums()`, которая принимает на вход целое число, а возвращает список из двух элементов: целое число, предшествующее принятому на вход, и число, следующее за ним.\n",
        "\n",
        "**Пример:**\n",
        "\n",
        "*Входные данные:*\n",
        "\n",
        "    7\n",
        "\n",
        "*Выходные данные:*\n",
        "\n",
        "    [6, 8]"
      ]
    },
    {
      "cell_type": "code",
      "execution_count": null,
      "metadata": {
        "colab": {
          "base_uri": "https://localhost:8080/"
        },
        "id": "H5TjTTOXjwNa",
        "outputId": "05cfff99-4cf1-4cd4-cac4-41bd96d14237"
      },
      "outputs": [
        {
          "name": "stdout",
          "output_type": "stream",
          "text": [
            "Введите целое число6\n",
            "[5, 7]\n"
          ]
        }
      ],
      "source": [
        "nums = int(input('Введите целое число'))\n",
        "b = nums-1, nums+1\n",
        "print(list(b))"
      ]
    },
    {
      "cell_type": "markdown",
      "metadata": {
        "id": "Jma32P6yt8aG"
      },
      "source": [
        "### Задание 10 (счетное)\n",
        "\n",
        "Напишите функцию `my_log()`, которая принимает на вход список чисел, и возвращает список их натуральных логарифмов. Если число меньше или равно 0, на его месте в возвращаемом списке должно быть None.\n",
        "\n",
        "**Пример:**\n",
        "\n",
        "*Входные данные:*\n",
        "\n",
        "    [1, 3, 2.5, -1, 9, 0, 2.71]\n",
        "\n",
        "*Выходные данные:*\n",
        "\n",
        "    [0.0,\n",
        "     1.0986122886681098,\n",
        "     0.9162907318741551,\n",
        "     None,\n",
        "     2.1972245773362196,\n",
        "     None,\n",
        "     0.9969486348916096]"
      ]
    },
    {
      "cell_type": "code",
      "execution_count": null,
      "metadata": {
        "colab": {
          "base_uri": "https://localhost:8080/"
        },
        "id": "cvi63XRWkoqe",
        "outputId": "b0bb983d-1763-41ca-acb9-628819afd300"
      },
      "outputs": [
        {
          "output_type": "stream",
          "name": "stdout",
          "text": [
            "0.0\n",
            "1.0986122886681098\n",
            "0.9162907318741551\n",
            "None\n",
            "2.1972245773362196\n",
            "None\n",
            "0.9969486348916096\n"
          ]
        }
      ],
      "source": [
        "my_log = [1, 3, 2.5, -1, 9, 0, 2.71]\n",
        "for i in my_log:\n",
        "  if i > 0:\n",
        "    print(math.log(i))\n",
        "  if i <= 0:\n",
        "    print(None)"
      ]
    },
    {
      "cell_type": "markdown",
      "metadata": {
        "id": "3CO1Kbhst8aH"
      },
      "source": [
        "### Задание 11 (зимнее)\n",
        "\n",
        "Напишите функцию `str_lower()`, которая принимает на вход строку (набор слов через пробел), а возвращает список ее элементов в нижнем регистре. \n",
        "\n",
        "**Пример:**\n",
        "\n",
        "*Входные данные:*\n",
        "\n",
        "    \"В лесу родилась ёлочка В лесу она росла\"\n",
        "\n",
        "*Выходные данные:*\n",
        "\n",
        "    ['в', 'лесу', 'родилась', 'ёлочка', 'в', 'лесу', 'она', 'росла']\n",
        "    \n",
        "*Подсказка:* для разбиение строки на части, познакомьтесь с методом `.split()` – запросите по нему `help()`."
      ]
    },
    {
      "cell_type": "code",
      "execution_count": null,
      "metadata": {
        "colab": {
          "base_uri": "https://localhost:8080/"
        },
        "id": "iNhOMBminbSq",
        "outputId": "2196a145-00ad-466b-e456-f6846556bb10"
      },
      "outputs": [
        {
          "name": "stdout",
          "output_type": "stream",
          "text": [
            "Введите строкуdvdf dfdf sefee\n",
            "['dvdf', 'dfdf', 'sefee']\n"
          ]
        }
      ],
      "source": [
        "a = str(input('Введите строку'))\n",
        "b = str(a.split())\n",
        "c = b.lower()\n",
        "print(c)"
      ]
    }
  ],
  "metadata": {
    "colab": {
      "collapsed_sections": [],
      "name": "2_seminar2.ipynb",
      "provenance": []
    },
    "kernelspec": {
      "display_name": "Python 3",
      "language": "python",
      "name": "python3"
    },
    "language_info": {
      "codemirror_mode": {
        "name": "ipython",
        "version": 3
      },
      "file_extension": ".py",
      "mimetype": "text/x-python",
      "name": "python",
      "nbconvert_exporter": "python",
      "pygments_lexer": "ipython3",
      "version": "3.6.5"
    }
  },
  "nbformat": 4,
  "nbformat_minor": 0
}